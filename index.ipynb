{
  "cells": [
    {
      "cell_type": "raw",
      "metadata": {},
      "source": [
        "---\n",
        "title: \"dicopal.js\"\n",
        "---"
      ],
      "id": "3d6f2291"
    },
    {
      "cell_type": "markdown",
      "metadata": {},
      "source": [
        "# `dicopal.js`\n",
        "\n",
        "[`dicopal.js`](https://github.com/riatelab/dicopal.js) deserves all credit for this work. I have only taken the palettes that they have collected and put them up on this page together with the hex codes. `dicopal.js` is using the Apache-2.0 license.\n",
        "\n",
        "In total, `dicopal.js` has compiled color palettes with the following indentifiers:"
      ],
      "id": "ff6f5d0e"
    },
    {
      "cell_type": "code",
      "metadata": {},
      "source": [
        "cartocolors\n",
        "cmocean\n",
        "colorbrewer\n",
        "lightbartlein\n",
        "matplotlib\n",
        "mycarta\n",
        "scientific\n",
        "tableau\n",
        "wesanderson\n",
        "otakeito"
      ],
      "id": "0b08acbd",
      "execution_count": null,
      "outputs": []
    }
  ],
  "metadata": {
    "kernelspec": {
      "name": "python3",
      "language": "python",
      "display_name": "Python 3 (ipykernel)"
    }
  },
  "nbformat": 4,
  "nbformat_minor": 5
}